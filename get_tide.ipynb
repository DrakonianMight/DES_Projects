{
 "cells": [
  {
   "cell_type": "markdown",
   "metadata": {},
   "source": [
    "## Download Tide Data"
   ]
  },
  {
   "cell_type": "code",
   "execution_count": 1,
   "metadata": {},
   "outputs": [],
   "source": [
    "import requests\n",
    "import json\n",
    "import datetime\n",
    "import numpy as np\n",
    "import datetime\n",
    "import pandas as pd"
   ]
  },
  {
   "cell_type": "code",
   "execution_count": 32,
   "metadata": {},
   "outputs": [],
   "source": [
    "def des_tides():\n",
    "    \"\"\"\n",
    "    Returns a dataframe with Storm Tide data\n",
    "    \"\"\"\n",
    "    def storm_tides():\n",
    "        st = requests.get(\"https://data.qld.gov.au/api/action/datastore_search?resource_id=7afe7233-fae0-4024-bc98-3a72f05675bd&limit=100000\", verify= False)\n",
    "        stDict = st.json()  \n",
    "        dataraw = stDict['result']['records']\n",
    "        data = []\n",
    "        for records in dataraw:\n",
    "            recs = []\n",
    "            recs.append(records.get('Seconds'))\n",
    "            recs.append(records.get('DateTime'))\n",
    "            recs.append(records.get('Site'))\n",
    "            recs.append(records.get('Water Level'))\n",
    "            recs.append(records.get('Prediction'))\n",
    "            recs.append(records.get('Residual'))\n",
    "            data.append(recs)\n",
    "        \n",
    "        datadf = pd.DataFrame.from_dict(data)\n",
    "        datadf.columns = [\"Seconds\",\"DateTime\",\"Site\",\"WaterLevel\",\"Prediction\",\"Residual\"]\n",
    "        datadf['DateTime'] = pd.to_datetime(datadf[\"DateTime\"])\n",
    "        datadf.index = datadf[\"DateTime\"]\n",
    "        datadf = datadf[datadf['WaterLevel'] > 0]\n",
    "        datadf = datadf.sort_index()\n",
    "        #datadf['WaterLevel'].convert_objects(convert_numeric = True).dtypes\n",
    "        return datadf\n",
    "    \n",
    "    \n",
    "    def other_tides():\n",
    "        t = requests.get(\"https://data.qld.gov.au/api/action/datastore_search?resource_id=1311fc19-1e60-444f-b5cf-24687f1c15a7&limit=100000\", verify= False)\n",
    "        tDict = t.json()  \n",
    "        dataraw = tDict['result']['records']\n",
    "        data = []\n",
    "        for records in dataraw:\n",
    "            recs = []\n",
    "            recs.append(records.get('Seconds'))\n",
    "            recs.append(records.get('DateTime'))\n",
    "            recs.append(records.get('Site'))\n",
    "            recs.append(records.get('Water Level'))\n",
    "            recs.append(records.get('Prediction'))\n",
    "            recs.append(records.get('Residual'))\n",
    "            data.append(recs)\n",
    "        \n",
    "        datadf = pd.DataFrame.from_dict(data)\n",
    "        datadf.columns = [\"Seconds\",\"DateTime\",\"Site\",\"WaterLevel\",\"Prediction\",\"Residual\"]\n",
    "        datadf['DateTime'] = pd.to_datetime(datadf[\"DateTime\"])\n",
    "        datadf.index = datadf[\"DateTime\"]\n",
    "        datadf = datadf[datadf['WaterLevel'] > 0]\n",
    "        datadf = datadf.sort_index()\n",
    "        return datadf\n",
    "    \n",
    "    return pd.concat([storm_tides(), other_tides()])\n"
   ]
  },
  {
   "cell_type": "code",
   "execution_count": 33,
   "metadata": {},
   "outputs": [
    {
     "name": "stderr",
     "output_type": "stream",
     "text": [
      "C:\\Users\\leope\\Anaconda3\\envs\\mlenv\\lib\\site-packages\\urllib3\\connectionpool.py:847: InsecureRequestWarning: Unverified HTTPS request is being made. Adding certificate verification is strongly advised. See: https://urllib3.readthedocs.io/en/latest/advanced-usage.html#ssl-warnings\n",
      "  InsecureRequestWarning)\n",
      "C:\\Users\\leope\\Anaconda3\\envs\\mlenv\\lib\\site-packages\\urllib3\\connectionpool.py:847: InsecureRequestWarning: Unverified HTTPS request is being made. Adding certificate verification is strongly advised. See: https://urllib3.readthedocs.io/en/latest/advanced-usage.html#ssl-warnings\n",
      "  InsecureRequestWarning)\n"
     ]
    },
    {
     "data": {
      "text/plain": [
       "array(['abellpoint', 'jumpinpin', 'iama', 'hamiltonisland', 'goldenbeach',\n",
       "       'goldcoast', 'laguna', 'gcseaway', 'dalbay', 'courancove',\n",
       "       'karumba', 'cooktown', 'cardwell', 'boigu', 'capeferg', 'lucinda',\n",
       "       'cairns', 'burnett', 'burketown', 'bundaberg', 'bowenl',\n",
       "       'clumppoint', 'kubin', 'bowen', 'maroochydore'], dtype=object)"
      ]
     },
     "execution_count": 33,
     "metadata": {},
     "output_type": "execute_result"
    }
   ],
   "source": [
    "data = des_tides()\n",
    "data.Site.unique()"
   ]
  },
  {
   "cell_type": "code",
   "execution_count": 25,
   "metadata": {},
   "outputs": [],
   "source": [
    "dataList = []\n",
    "for name, group in data.groupby('Site'):\n",
    "    dataList.append(group)\n",
    "\n",
    "    "
   ]
  },
  {
   "cell_type": "code",
   "execution_count": 29,
   "metadata": {},
   "outputs": [],
   "source": [
    "abel = dataList[0].sort_index()"
   ]
  },
  {
   "cell_type": "code",
   "execution_count": 34,
   "metadata": {},
   "outputs": [],
   "source": [
    "def plot_tides():\n",
    "    \"\"\"Take the tide data and generate interactive plots and return them\"\"\"\n",
    "    # import relevant bokeh elements\n",
    "    from bokeh.plotting import figure, output_file, show\n",
    "    from bokeh.models import ColumnDataSource, Span\n",
    "    from bokeh.models.tools import HoverTool\n",
    "    \n",
    "    #get data\n",
    "    data = des_tides()\n",
    "    \n",
    "    plots = {}\n",
    "    \n",
    "    for name, group in data.groupby('Site'):\n",
    "        group = group.sort_index()\n",
    "        p = figure(x_axis_type=\"datetime\", plot_height = 500, plot_width = 1000, title=name )\n",
    "        p.sizing_mode = 'scale_width'\n",
    "        plotA =p.line(x = group.index,y = pd.to_numeric(group['WaterLevel']), color = 'blue',legend='Actual')\n",
    "        p.add_tools(HoverTool(renderers=[plotA], tooltips=[(\"Actual\",\"@y\")],mode='vline'))\n",
    "        plotP = p.line(group.index, pd.to_numeric(group['Prediction']), color = 'green',legend='Prediction')\n",
    "        p.add_tools(HoverTool(renderers=[plotP], tooltips=[(\"Prediction\",\"@y\")],mode='vline'))\n",
    "        #now_line = Span(location=datetime.datetime.now(),dimension='height', line_color='red',line_dash='dashed', line_width=2)\n",
    "        #p.add_layout(now_line)\n",
    "    \n",
    "        p.yaxis.axis_label = \"Height (mLAT)\"\n",
    "    \n",
    "        p.legend.location = \"top_left\"\n",
    "        p.legend.click_policy=\"hide\"\n",
    "    \n",
    "    \n",
    "        from bokeh.resources import CDN\n",
    "        from bokeh.embed import file_html, components\n",
    "        #fig = file_html(p, CDN)\n",
    "        script, div = components(p)\n",
    "        plots[name] = (script, div)\n",
    "        \n",
    "    return plots\n",
    "    "
   ]
  },
  {
   "cell_type": "code",
   "execution_count": 35,
   "metadata": {},
   "outputs": [
    {
     "name": "stderr",
     "output_type": "stream",
     "text": [
      "C:\\Users\\leope\\Anaconda3\\envs\\mlenv\\lib\\site-packages\\urllib3\\connectionpool.py:847: InsecureRequestWarning: Unverified HTTPS request is being made. Adding certificate verification is strongly advised. See: https://urllib3.readthedocs.io/en/latest/advanced-usage.html#ssl-warnings\n",
      "  InsecureRequestWarning)\n",
      "C:\\Users\\leope\\Anaconda3\\envs\\mlenv\\lib\\site-packages\\urllib3\\connectionpool.py:847: InsecureRequestWarning: Unverified HTTPS request is being made. Adding certificate verification is strongly advised. See: https://urllib3.readthedocs.io/en/latest/advanced-usage.html#ssl-warnings\n",
      "  InsecureRequestWarning)\n"
     ]
    }
   ],
   "source": [
    "plots = plot_tides()"
   ]
  },
  {
   "cell_type": "code",
   "execution_count": 36,
   "metadata": {},
   "outputs": [
    {
     "name": "stderr",
     "output_type": "stream",
     "text": [
      "C:\\Users\\leope\\Anaconda3\\envs\\mlenv\\lib\\site-packages\\urllib3\\connectionpool.py:847: InsecureRequestWarning: Unverified HTTPS request is being made. Adding certificate verification is strongly advised. See: https://urllib3.readthedocs.io/en/latest/advanced-usage.html#ssl-warnings\n",
      "  InsecureRequestWarning)\n",
      "C:\\Users\\leope\\Anaconda3\\envs\\mlenv\\lib\\site-packages\\urllib3\\connectionpool.py:847: InsecureRequestWarning: Unverified HTTPS request is being made. Adding certificate verification is strongly advised. See: https://urllib3.readthedocs.io/en/latest/advanced-usage.html#ssl-warnings\n",
      "  InsecureRequestWarning)\n"
     ]
    }
   ],
   "source": [
    "def plot_html(plots):\n",
    "    \n",
    "    name = 'interactive_tide.html'\n",
    "    html = open(name, 'w')\n",
    "    \n",
    "    begin = \"\"\"--- \\nlayout: default \\ntitle: OceanView \\n---\\n\n",
    "    <html> \\n\n",
    "        <head> \\n\n",
    "            <title>{{ page.title }}</title> \\n\n",
    "            <!-- link to main stylesheet -->\n",
    "            <link rel=\"stylesheet\" type=\"text/css\" href=\"/css/main.css\"> \\n\n",
    "            </head> \\n\n",
    "            <body> \\n\n",
    "            <h3>Tide Sites</h3>\"\"\"\n",
    "    \n",
    "    html.write(begin)\n",
    "    \n",
    "    bokeh_setup = \"\"\"<link\n",
    "    href=\"https://cdn.pydata.org/bokeh/release/bokeh-1.0.1.min.css\"\n",
    "    rel=\"stylesheet\" type=\"text/css\">\n",
    "    <link\n",
    "    href=\"https://cdn.pydata.org/bokeh/release/bokeh-widgets-1.0.1.min.css\"\n",
    "    rel=\"stylesheet\" type=\"text/css\">\n",
    "    <link\n",
    "    href=\"https://cdn.pydata.org/bokeh/release/bokeh-tables-1.0.1.min.css\"\n",
    "    rel=\"stylesheet\" type=\"text/css\">\n",
    "\n",
    "    <script src=\"https://cdn.pydata.org/bokeh/release/bokeh-1.0.1.min.js\"></script>\n",
    "    <script src=\"https://cdn.pydata.org/bokeh/release/bokeh-widgets-1.0.1.min.js\"></script>\"\"\"\n",
    "    html.write(bokeh_setup)\n",
    "    size = \"\"\"<style type=\"text/css\">\n",
    "    .plots {\n",
    "        height: 35%;\n",
    "        width: 65%;\n",
    "        margin: auto;\n",
    "    }</style>\"\"\"\n",
    "    \n",
    "    for key, value in plots.items():\n",
    "        html.write(\"<head>\\n\")\n",
    "        html.write(size + \"\\n\")\n",
    "        html.write(value[0] + \"\\n\")\n",
    "        html.write(\"</head>\")\n",
    "        html.write(\"<body>\\n\")\n",
    "        html.write(\"\"\"<div class=\"plots\">\"\"\")\n",
    "        html.write(value[-1])\n",
    "        html.write(\"</div>\")\n",
    "        \n",
    "    end = \"\"\"<footer> \\n\n",
    "                <ul><li><a href=\"https://github.com/DrakonianMight\">github.com/DrakonianMight</a><li> \\n\n",
    "                </ul> \\n\n",
    "            </footer> \\n\n",
    "            </body> \\n\n",
    "            </html>\"\"\"\n",
    "    html.write(end)\n",
    "    \n",
    "    \n",
    "    return\n",
    "plot_html(plot_tides())"
   ]
  },
  {
   "cell_type": "code",
   "execution_count": null,
   "metadata": {},
   "outputs": [],
   "source": []
  }
 ],
 "metadata": {
  "kernelspec": {
   "display_name": "Python 3",
   "language": "python",
   "name": "python3"
  },
  "language_info": {
   "codemirror_mode": {
    "name": "ipython",
    "version": 3
   },
   "file_extension": ".py",
   "mimetype": "text/x-python",
   "name": "python",
   "nbconvert_exporter": "python",
   "pygments_lexer": "ipython3",
   "version": "3.6.7"
  }
 },
 "nbformat": 4,
 "nbformat_minor": 2
}
